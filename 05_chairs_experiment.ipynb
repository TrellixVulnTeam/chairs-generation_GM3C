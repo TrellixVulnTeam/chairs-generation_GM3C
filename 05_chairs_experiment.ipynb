{
 "cells": [
  {
   "cell_type": "code",
   "execution_count": null,
   "metadata": {},
   "outputs": [],
   "source": [
    "import tensorflow as tf\n",
    "import numpy as np\n",
    "import matplotlib.pyplot as plt\n",
    "import os\n",
    "import time\n",
    "\n",
    "from tensorflow.keras.layers import Input, Conv2D, Concatenate, Embedding, Flatten, AvgPool2D, GlobalAvgPool2D, Dense, Reshape, Lambda, Activation, BatchNormalization, GlobalAveragePooling2D, UpSampling2D, ReLU, MaxPool2D, Dropout, Softmax\n",
    "from tensorflow.keras.models import Model\n",
    "from tensorflow.keras import backend as K\n",
    "from tensorflow.keras.optimizers import Adam\n",
    "from tensorflow.keras.callbacks import ModelCheckpoint \n",
    "from tensorflow.keras.utils import plot_model\n",
    "from tensorflow.keras import Sequential\n",
    "\n",
    "from utils.data import tfr_dataset_eager, parse_chairs\n",
    "from utils import image"
   ]
  },
  {
   "cell_type": "code",
   "execution_count": null,
   "metadata": {},
   "outputs": [],
   "source": [
    "parse_fn = lambda x: parse_chairs(x, resize=64)\n",
    "# change the data path to where your TFR file is\n",
    "data = tfr_dataset_eager(\"chairs/tfrs/chairs.tfr\", 256, parse_fn, shufrep=80000)\n",
    "\n",
    "#Return sine and cosine of given indice\n",
    "def ind_to_circle(inds):\n",
    "    rads = tf.cast(inds, tf.float32) / 32 * 2*tf.convert_to_tensor(np.pi, dtype=tf.float32)\n",
    "    return tf.stack([tf.math.cos(rads), tf.math.sin(rads)], axis=1)"
   ]
  },
  {
   "cell_type": "code",
   "execution_count": null,
   "metadata": {},
   "outputs": [],
   "source": [
    "imported = tf.keras.models.load_model('model_chr1')"
   ]
  },
  {
   "cell_type": "code",
   "execution_count": null,
   "metadata": {},
   "outputs": [],
   "source": [
    "#Idea is that we break the model into two different parts to get embeddings first. So that we can do morphing between embeddings.\n",
    "inp_chid = Input(shape=(1,))\n",
    "\n",
    "id_embedding_initial = Embedding(input_dim=1396, output_dim=40, input_length=1, trainable=False)\n",
    "id_embedding = id_embedding_initial(inp_chid)\n",
    "id_embedding = Flatten()(id_embedding)\n",
    "\n",
    "inp_model = Model(inp_chid, id_embedding)"
   ]
  },
  {
   "cell_type": "code",
   "execution_count": null,
   "metadata": {},
   "outputs": [],
   "source": [
    "inp_model.layers[1].set_weights(imported.layers[1].get_weights())"
   ]
  },
  {
   "cell_type": "code",
   "execution_count": null,
   "metadata": {},
   "outputs": [],
   "source": [
    "inp_c = Input(shape=(40,)) #Now it takes embeddings as input\n",
    "inp_rot = Input(shape=(2,))\n",
    "inp_elev = Input(shape=(2,))\n",
    "\n",
    "dense_c = Dense(512, activation='relu', name='fc1_c')(inp_c)\n",
    "dense_c = Dense(512, activation='relu', name='fc2_c')(dense_c)\n",
    "\n",
    "conc_v = Concatenate()([inp_rot, inp_elev])\n",
    "dense_v = Dense(512, activation='relu', name='fc1_v')(conc_v)\n",
    "dense_v = Dense(512, activation='relu', name='fc2_v')(dense_v)\n",
    "\n",
    "conc_vc = Concatenate()([dense_c, dense_v])\n",
    "\n",
    "fc = Dense(1024, activation='relu', name='fc3')(conc_vc)\n",
    "fc = Dense(1024, activation='relu', name='fc4')(fc)\n",
    "fc = Dense(16384, activation='relu', name='fc5')(fc)\n",
    "reshaped = Reshape((8,8,256))(fc)\n",
    "\n",
    "conv = Conv2D(256, 5, strides=1, padding='same', activation='relu', name='conv1')(reshaped)\n",
    "\n",
    "ups = UpSampling2D(size=2)(conv)\n",
    "conv = Conv2D(92, 5, strides=1, padding='same', activation='relu', name='conv2')(ups)\n",
    "ups = UpSampling2D(size=2)(conv)\n",
    "conv = Conv2D(92, 5, strides=1, padding='same', activation='relu', name='conv3')(ups)\n",
    "ups = UpSampling2D(size=2)(conv)\n",
    "\n",
    "out = Conv2D(3, 5, strides=1, padding='same', name='conv4')(ups)\n",
    "\n",
    "model = Model([inp_c, inp_rot, inp_elev], out)"
   ]
  },
  {
   "cell_type": "code",
   "execution_count": null,
   "metadata": {},
   "outputs": [],
   "source": [
    "for i in range(3,20):\n",
    "    model.layers[i].set_weights(imported.layers[i+2].get_weights())"
   ]
  },
  {
   "cell_type": "code",
   "execution_count": null,
   "metadata": {},
   "outputs": [],
   "source": [
    "#Fixing chair id and angles to show rotation's effect\n",
    "chair_ids = [10 for _ in range(20)]\n",
    "chair_ids = tf.convert_to_tensor(chair_ids)\n",
    "\n",
    "rot_ids = [i for i in range(20)]\n",
    "rot_ids = tf.convert_to_tensor(rot_ids)\n",
    "\n",
    "ele_ids = [0 for _ in range(20)]\n",
    "ele_ids = tf.convert_to_tensor(ele_ids)\n",
    "\n",
    "\n",
    "rot_angles = ind_to_circle(tf.multiply(rot_ids, 11))\n",
    "ele_angles = ind_to_circle(np.where(ele_ids==0,20,30))\n",
    "\n",
    "\n",
    "embds = inp_model(chair_ids)\n",
    "out = model(inputs=[embds, rot_angles, ele_angles])\n",
    "\n",
    "\n",
    "imgs = []\n",
    "for i in range(20):\n",
    "    imgs.append(out[i].numpy())\n",
    "\n",
    "image.show(imgs, cols=3)"
   ]
  },
  {
   "cell_type": "code",
   "execution_count": null,
   "metadata": {},
   "outputs": [],
   "source": [
    "#Get two random embeddings of chairs\n",
    "embd_0 = inp_model(1222)\n",
    "embd_1 = inp_model(11)\n",
    "\n",
    "e_arr = []\n",
    "\n",
    "#Linear interpolation between two embeddings\n",
    "for i in range(40):\n",
    "    e_arr.append(np.linspace(embd_0[i].numpy(), embd_1[i].numpy(), num=12, axis=0))\n",
    "\n",
    "embd_tensor = tf.stack(e_arr, axis=1)\n",
    "embd_tensor = tf.reshape(embd_tensor, [12, 40])\n",
    "print(embd_tensor.shape)"
   ]
  },
  {
   "cell_type": "code",
   "execution_count": null,
   "metadata": {},
   "outputs": [],
   "source": [
    "#This time rotation and elevation fixed\n",
    "rot_ids = [1 for _ in range(12)]\n",
    "rot_ids = tf.convert_to_tensor(rot_ids)\n",
    "\n",
    "ele_ids = [0 for _ in range(12)]\n",
    "ele_ids = tf.convert_to_tensor(ele_ids)\n",
    "\n",
    "rot_angles = ind_to_circle(tf.multiply(rot_ids, 11))\n",
    "ele_angles = ind_to_circle(np.where(ele_ids==0,20,30))\n",
    "\n",
    "\n",
    "#embds = inp_model(chair_ids)\n",
    "out = model(inputs=[embd_tensor, rot_angles, ele_angles])\n",
    "\n",
    "\n",
    "imgs = []\n",
    "for i in range(12):\n",
    "    imgs.append(out[i].numpy())\n",
    "\n",
    "image.show(imgs, cols=2)"
   ]
  }
 ],
 "metadata": {
  "kernelspec": {
   "display_name": "Python 3",
   "language": "python",
   "name": "python3"
  },
  "language_info": {
   "codemirror_mode": {
    "name": "ipython",
    "version": 3
   },
   "file_extension": ".py",
   "mimetype": "text/x-python",
   "name": "python",
   "nbconvert_exporter": "python",
   "pygments_lexer": "ipython3",
   "version": "3.6.5"
  }
 },
 "nbformat": 4,
 "nbformat_minor": 4
}
